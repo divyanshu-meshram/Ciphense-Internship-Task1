{
 "cells": [
  {
   "cell_type": "code",
   "execution_count": 1,
   "metadata": {},
   "outputs": [
    {
     "name": "stderr",
     "output_type": "stream",
     "text": [
      "C:\\Users\\hpw\\AppData\\Roaming\\Python\\Python36\\site-packages\\tensorflow\\python\\framework\\dtypes.py:516: FutureWarning: Passing (type, 1) or '1type' as a synonym of type is deprecated; in a future version of numpy, it will be understood as (type, (1,)) / '(1,)type'.\n",
      "  _np_qint8 = np.dtype([(\"qint8\", np.int8, 1)])\n",
      "C:\\Users\\hpw\\AppData\\Roaming\\Python\\Python36\\site-packages\\tensorflow\\python\\framework\\dtypes.py:517: FutureWarning: Passing (type, 1) or '1type' as a synonym of type is deprecated; in a future version of numpy, it will be understood as (type, (1,)) / '(1,)type'.\n",
      "  _np_quint8 = np.dtype([(\"quint8\", np.uint8, 1)])\n",
      "C:\\Users\\hpw\\AppData\\Roaming\\Python\\Python36\\site-packages\\tensorflow\\python\\framework\\dtypes.py:518: FutureWarning: Passing (type, 1) or '1type' as a synonym of type is deprecated; in a future version of numpy, it will be understood as (type, (1,)) / '(1,)type'.\n",
      "  _np_qint16 = np.dtype([(\"qint16\", np.int16, 1)])\n",
      "C:\\Users\\hpw\\AppData\\Roaming\\Python\\Python36\\site-packages\\tensorflow\\python\\framework\\dtypes.py:519: FutureWarning: Passing (type, 1) or '1type' as a synonym of type is deprecated; in a future version of numpy, it will be understood as (type, (1,)) / '(1,)type'.\n",
      "  _np_quint16 = np.dtype([(\"quint16\", np.uint16, 1)])\n",
      "C:\\Users\\hpw\\AppData\\Roaming\\Python\\Python36\\site-packages\\tensorflow\\python\\framework\\dtypes.py:520: FutureWarning: Passing (type, 1) or '1type' as a synonym of type is deprecated; in a future version of numpy, it will be understood as (type, (1,)) / '(1,)type'.\n",
      "  _np_qint32 = np.dtype([(\"qint32\", np.int32, 1)])\n",
      "C:\\Users\\hpw\\AppData\\Roaming\\Python\\Python36\\site-packages\\tensorflow\\python\\framework\\dtypes.py:525: FutureWarning: Passing (type, 1) or '1type' as a synonym of type is deprecated; in a future version of numpy, it will be understood as (type, (1,)) / '(1,)type'.\n",
      "  np_resource = np.dtype([(\"resource\", np.ubyte, 1)])\n"
     ]
    },
    {
     "name": "stdout",
     "output_type": "stream",
     "text": [
      "1.14.0\n"
     ]
    },
    {
     "name": "stderr",
     "output_type": "stream",
     "text": [
      "C:\\Users\\hpw\\AppData\\Roaming\\Python\\Python36\\site-packages\\tensorboard\\compat\\tensorflow_stub\\dtypes.py:541: FutureWarning: Passing (type, 1) or '1type' as a synonym of type is deprecated; in a future version of numpy, it will be understood as (type, (1,)) / '(1,)type'.\n",
      "  _np_qint8 = np.dtype([(\"qint8\", np.int8, 1)])\n",
      "C:\\Users\\hpw\\AppData\\Roaming\\Python\\Python36\\site-packages\\tensorboard\\compat\\tensorflow_stub\\dtypes.py:542: FutureWarning: Passing (type, 1) or '1type' as a synonym of type is deprecated; in a future version of numpy, it will be understood as (type, (1,)) / '(1,)type'.\n",
      "  _np_quint8 = np.dtype([(\"quint8\", np.uint8, 1)])\n",
      "C:\\Users\\hpw\\AppData\\Roaming\\Python\\Python36\\site-packages\\tensorboard\\compat\\tensorflow_stub\\dtypes.py:543: FutureWarning: Passing (type, 1) or '1type' as a synonym of type is deprecated; in a future version of numpy, it will be understood as (type, (1,)) / '(1,)type'.\n",
      "  _np_qint16 = np.dtype([(\"qint16\", np.int16, 1)])\n",
      "C:\\Users\\hpw\\AppData\\Roaming\\Python\\Python36\\site-packages\\tensorboard\\compat\\tensorflow_stub\\dtypes.py:544: FutureWarning: Passing (type, 1) or '1type' as a synonym of type is deprecated; in a future version of numpy, it will be understood as (type, (1,)) / '(1,)type'.\n",
      "  _np_quint16 = np.dtype([(\"quint16\", np.uint16, 1)])\n",
      "C:\\Users\\hpw\\AppData\\Roaming\\Python\\Python36\\site-packages\\tensorboard\\compat\\tensorflow_stub\\dtypes.py:545: FutureWarning: Passing (type, 1) or '1type' as a synonym of type is deprecated; in a future version of numpy, it will be understood as (type, (1,)) / '(1,)type'.\n",
      "  _np_qint32 = np.dtype([(\"qint32\", np.int32, 1)])\n",
      "C:\\Users\\hpw\\AppData\\Roaming\\Python\\Python36\\site-packages\\tensorboard\\compat\\tensorflow_stub\\dtypes.py:550: FutureWarning: Passing (type, 1) or '1type' as a synonym of type is deprecated; in a future version of numpy, it will be understood as (type, (1,)) / '(1,)type'.\n",
      "  np_resource = np.dtype([(\"resource\", np.ubyte, 1)])\n"
     ]
    }
   ],
   "source": [
    "import tensorflow as tf\n",
    "print(tf.__version__)"
   ]
  },
  {
   "cell_type": "code",
   "execution_count": 2,
   "metadata": {},
   "outputs": [
    {
     "name": "stdout",
     "output_type": "stream",
     "text": [
      "1.14.0\n"
     ]
    }
   ],
   "source": [
    "import tensorflow as tf\n",
    "print(tf.__version__)"
   ]
  },
  {
   "cell_type": "code",
   "execution_count": 1,
   "metadata": {},
   "outputs": [],
   "source": [
    "import numpy as np\n",
    "import pandas as pd\n",
    "import matplotlib.pyplot as plt\n",
    "import seaborn as sns\n",
    "import cv2\n",
    "from PIL import Image\n",
    "\n",
    "import tensorflow as tf\n",
    "import tensorflow.keras as keras\n",
    "from tensorflow.keras.models import Sequential\n",
    "from tensorflow.keras.layers import Conv2D, MaxPooling2D, Activation,Dropout,Flatten,Dense,Dropout,BatchNormalization\n",
    "from tensorflow.keras.preprocessing.image import ImageDataGenerator,img_to_array,load_img\n",
    "from tensorflow.keras.optimizers import Adam"
   ]
  },
  {
   "cell_type": "code",
   "execution_count": 19,
   "metadata": {},
   "outputs": [
    {
     "data": {
      "text/plain": [
       "<tensorflow.python.keras.layers.normalization.LayerNormalization at 0x1dd1c703748>"
      ]
     },
     "execution_count": 19,
     "metadata": {},
     "output_type": "execute_result"
    }
   ],
   "source": [
    "keras.layers.LayerNormalization()"
   ]
  },
  {
   "cell_type": "code",
   "execution_count": 25,
   "metadata": {},
   "outputs": [],
   "source": [
    "data = pd.read_csv(\"D:/AdienceBenchmarkGenderAndAgeClassification/fold_3_data.txt\",sep = \"\\t\" )\n",
    "data1 = pd.read_csv(\"D:/AdienceBenchmarkGenderAndAgeClassification/fold_1_data.txt\",sep = \"\\t\")\n",
    "data2 = pd.read_csv(\"D:/AdienceBenchmarkGenderAndAgeClassification/fold_2_data.txt\",sep = \"\\t\")\n",
    "data3 = pd.read_csv(\"D:/AdienceBenchmarkGenderAndAgeClassification/fold_0_data.txt\",sep = \"\\t\")\n",
    "data4 = pd.read_csv(\"D:/AdienceBenchmarkGenderAndAgeClassification/fold_4_data.txt\",sep = \"\\t\")"
   ]
  },
  {
   "cell_type": "code",
   "execution_count": 26,
   "metadata": {},
   "outputs": [
    {
     "name": "stdout",
     "output_type": "stream",
     "text": [
      "(3446, 12)\n",
      "(19370, 12)\n"
     ]
    }
   ],
   "source": [
    "total_data = pd.concat([data, data1, data2, data3, data4], ignore_index=True)\n",
    "print(data.shape)\n",
    "print(total_data.shape)"
   ]
  },
  {
   "cell_type": "code",
   "execution_count": 27,
   "metadata": {},
   "outputs": [
    {
     "name": "stdout",
     "output_type": "stream",
     "text": [
      "<class 'pandas.core.frame.DataFrame'>\n",
      "RangeIndex: 19370 entries, 0 to 19369\n",
      "Data columns (total 12 columns):\n",
      " #   Column              Non-Null Count  Dtype \n",
      "---  ------              --------------  ----- \n",
      " 0   user_id             19370 non-null  object\n",
      " 1   original_image      19370 non-null  object\n",
      " 2   face_id             19370 non-null  int64 \n",
      " 3   age                 19370 non-null  object\n",
      " 4   gender              18591 non-null  object\n",
      " 5   x                   19370 non-null  int64 \n",
      " 6   y                   19370 non-null  int64 \n",
      " 7   dx                  19370 non-null  int64 \n",
      " 8   dy                  19370 non-null  int64 \n",
      " 9   tilt_ang            19370 non-null  int64 \n",
      " 10  fiducial_yaw_angle  19370 non-null  int64 \n",
      " 11  fiducial_score      19370 non-null  int64 \n",
      "dtypes: int64(8), object(4)\n",
      "memory usage: 1.8+ MB\n"
     ]
    }
   ],
   "source": [
    "total_data.info()"
   ]
  },
  {
   "cell_type": "code",
   "execution_count": 28,
   "metadata": {},
   "outputs": [
    {
     "data": {
      "text/html": [
       "<div>\n",
       "<style scoped>\n",
       "    .dataframe tbody tr th:only-of-type {\n",
       "        vertical-align: middle;\n",
       "    }\n",
       "\n",
       "    .dataframe tbody tr th {\n",
       "        vertical-align: top;\n",
       "    }\n",
       "\n",
       "    .dataframe thead th {\n",
       "        text-align: right;\n",
       "    }\n",
       "</style>\n",
       "<table border=\"1\" class=\"dataframe\">\n",
       "  <thead>\n",
       "    <tr style=\"text-align: right;\">\n",
       "      <th></th>\n",
       "      <th>user_id</th>\n",
       "      <th>original_image</th>\n",
       "      <th>face_id</th>\n",
       "      <th>age</th>\n",
       "      <th>gender</th>\n",
       "      <th>x</th>\n",
       "      <th>y</th>\n",
       "      <th>dx</th>\n",
       "      <th>dy</th>\n",
       "      <th>tilt_ang</th>\n",
       "      <th>fiducial_yaw_angle</th>\n",
       "      <th>fiducial_score</th>\n",
       "    </tr>\n",
       "  </thead>\n",
       "  <tbody>\n",
       "    <tr>\n",
       "      <th>0</th>\n",
       "      <td>113445054@N07</td>\n",
       "      <td>11763777465_11d01c34ce_o.jpg</td>\n",
       "      <td>1322</td>\n",
       "      <td>(25, 32)</td>\n",
       "      <td>m</td>\n",
       "      <td>1102</td>\n",
       "      <td>296</td>\n",
       "      <td>357</td>\n",
       "      <td>357</td>\n",
       "      <td>-15</td>\n",
       "      <td>0</td>\n",
       "      <td>59</td>\n",
       "    </tr>\n",
       "    <tr>\n",
       "      <th>1</th>\n",
       "      <td>113445054@N07</td>\n",
       "      <td>11763777465_11d01c34ce_o.jpg</td>\n",
       "      <td>1323</td>\n",
       "      <td>(25, 32)</td>\n",
       "      <td>f</td>\n",
       "      <td>1713</td>\n",
       "      <td>580</td>\n",
       "      <td>325</td>\n",
       "      <td>325</td>\n",
       "      <td>-5</td>\n",
       "      <td>0</td>\n",
       "      <td>118</td>\n",
       "    </tr>\n",
       "    <tr>\n",
       "      <th>2</th>\n",
       "      <td>113445054@N07</td>\n",
       "      <td>11763777465_11d01c34ce_o.jpg</td>\n",
       "      <td>1324</td>\n",
       "      <td>(15, 20)</td>\n",
       "      <td>f</td>\n",
       "      <td>1437</td>\n",
       "      <td>664</td>\n",
       "      <td>306</td>\n",
       "      <td>306</td>\n",
       "      <td>5</td>\n",
       "      <td>0</td>\n",
       "      <td>109</td>\n",
       "    </tr>\n",
       "    <tr>\n",
       "      <th>3</th>\n",
       "      <td>113445054@N07</td>\n",
       "      <td>11764005785_f21921aea6_o.jpg</td>\n",
       "      <td>1325</td>\n",
       "      <td>(25, 32)</td>\n",
       "      <td>f</td>\n",
       "      <td>978</td>\n",
       "      <td>229</td>\n",
       "      <td>803</td>\n",
       "      <td>803</td>\n",
       "      <td>-20</td>\n",
       "      <td>-45</td>\n",
       "      <td>16</td>\n",
       "    </tr>\n",
       "    <tr>\n",
       "      <th>4</th>\n",
       "      <td>113445054@N07</td>\n",
       "      <td>11763728674_a41d99f71e_o.jpg</td>\n",
       "      <td>1326</td>\n",
       "      <td>(25, 32)</td>\n",
       "      <td>m</td>\n",
       "      <td>1745</td>\n",
       "      <td>910</td>\n",
       "      <td>242</td>\n",
       "      <td>242</td>\n",
       "      <td>-10</td>\n",
       "      <td>0</td>\n",
       "      <td>55</td>\n",
       "    </tr>\n",
       "  </tbody>\n",
       "</table>\n",
       "</div>"
      ],
      "text/plain": [
       "         user_id                original_image  face_id       age gender  \\\n",
       "0  113445054@N07  11763777465_11d01c34ce_o.jpg     1322  (25, 32)      m   \n",
       "1  113445054@N07  11763777465_11d01c34ce_o.jpg     1323  (25, 32)      f   \n",
       "2  113445054@N07  11763777465_11d01c34ce_o.jpg     1324  (15, 20)      f   \n",
       "3  113445054@N07  11764005785_f21921aea6_o.jpg     1325  (25, 32)      f   \n",
       "4  113445054@N07  11763728674_a41d99f71e_o.jpg     1326  (25, 32)      m   \n",
       "\n",
       "      x    y   dx   dy  tilt_ang  fiducial_yaw_angle  fiducial_score  \n",
       "0  1102  296  357  357       -15                   0              59  \n",
       "1  1713  580  325  325        -5                   0             118  \n",
       "2  1437  664  306  306         5                   0             109  \n",
       "3   978  229  803  803       -20                 -45              16  \n",
       "4  1745  910  242  242       -10                   0              55  "
      ]
     },
     "execution_count": 28,
     "metadata": {},
     "output_type": "execute_result"
    }
   ],
   "source": [
    "total_data.head()"
   ]
  },
  {
   "cell_type": "code",
   "execution_count": null,
   "metadata": {},
   "outputs": [],
   "source": []
  },
  {
   "cell_type": "code",
   "execution_count": 30,
   "metadata": {},
   "outputs": [
    {
     "name": "stdout",
     "output_type": "stream",
     "text": [
      "<class 'pandas.core.frame.DataFrame'>\n",
      "RangeIndex: 19370 entries, 0 to 19369\n",
      "Data columns (total 6 columns):\n",
      " #   Column  Non-Null Count  Dtype \n",
      "---  ------  --------------  ----- \n",
      " 0   age     19370 non-null  object\n",
      " 1   gender  18591 non-null  object\n",
      " 2   x       19370 non-null  int64 \n",
      " 3   y       19370 non-null  int64 \n",
      " 4   dx      19370 non-null  int64 \n",
      " 5   dy      19370 non-null  int64 \n",
      "dtypes: int64(4), object(2)\n",
      "memory usage: 908.1+ KB\n"
     ]
    }
   ],
   "source": [
    "df = total_data[['age', 'gender', 'x', 'y', 'dx', 'dy']].copy()\n",
    "df.info()"
   ]
  },
  {
   "cell_type": "code",
   "execution_count": 31,
   "metadata": {},
   "outputs": [],
   "source": [
    "img_path = []\n",
    "for row in total_data.iterrows():\n",
    "    path = \"D:/AdienceBenchmarkGenderAndAgeClassification/faces/\"+row[1].user_id+\"/coarse_tilt_aligned_face.\"+str(row[1].face_id)+\".\"+row[1].original_image\n",
    "    img_path.append(path)\n",
    "\n",
    "df['img_path'] = img_path"
   ]
  },
  {
   "cell_type": "code",
   "execution_count": 32,
   "metadata": {},
   "outputs": [
    {
     "data": {
      "text/html": [
       "<div>\n",
       "<style scoped>\n",
       "    .dataframe tbody tr th:only-of-type {\n",
       "        vertical-align: middle;\n",
       "    }\n",
       "\n",
       "    .dataframe tbody tr th {\n",
       "        vertical-align: top;\n",
       "    }\n",
       "\n",
       "    .dataframe thead th {\n",
       "        text-align: right;\n",
       "    }\n",
       "</style>\n",
       "<table border=\"1\" class=\"dataframe\">\n",
       "  <thead>\n",
       "    <tr style=\"text-align: right;\">\n",
       "      <th></th>\n",
       "      <th>age</th>\n",
       "      <th>gender</th>\n",
       "      <th>x</th>\n",
       "      <th>y</th>\n",
       "      <th>dx</th>\n",
       "      <th>dy</th>\n",
       "      <th>img_path</th>\n",
       "    </tr>\n",
       "  </thead>\n",
       "  <tbody>\n",
       "    <tr>\n",
       "      <th>0</th>\n",
       "      <td>(25, 32)</td>\n",
       "      <td>m</td>\n",
       "      <td>1102</td>\n",
       "      <td>296</td>\n",
       "      <td>357</td>\n",
       "      <td>357</td>\n",
       "      <td>D:/AdienceBenchmarkGenderAndAgeClassification/...</td>\n",
       "    </tr>\n",
       "    <tr>\n",
       "      <th>1</th>\n",
       "      <td>(25, 32)</td>\n",
       "      <td>f</td>\n",
       "      <td>1713</td>\n",
       "      <td>580</td>\n",
       "      <td>325</td>\n",
       "      <td>325</td>\n",
       "      <td>D:/AdienceBenchmarkGenderAndAgeClassification/...</td>\n",
       "    </tr>\n",
       "    <tr>\n",
       "      <th>2</th>\n",
       "      <td>(15, 20)</td>\n",
       "      <td>f</td>\n",
       "      <td>1437</td>\n",
       "      <td>664</td>\n",
       "      <td>306</td>\n",
       "      <td>306</td>\n",
       "      <td>D:/AdienceBenchmarkGenderAndAgeClassification/...</td>\n",
       "    </tr>\n",
       "    <tr>\n",
       "      <th>3</th>\n",
       "      <td>(25, 32)</td>\n",
       "      <td>f</td>\n",
       "      <td>978</td>\n",
       "      <td>229</td>\n",
       "      <td>803</td>\n",
       "      <td>803</td>\n",
       "      <td>D:/AdienceBenchmarkGenderAndAgeClassification/...</td>\n",
       "    </tr>\n",
       "    <tr>\n",
       "      <th>4</th>\n",
       "      <td>(25, 32)</td>\n",
       "      <td>m</td>\n",
       "      <td>1745</td>\n",
       "      <td>910</td>\n",
       "      <td>242</td>\n",
       "      <td>242</td>\n",
       "      <td>D:/AdienceBenchmarkGenderAndAgeClassification/...</td>\n",
       "    </tr>\n",
       "  </tbody>\n",
       "</table>\n",
       "</div>"
      ],
      "text/plain": [
       "        age gender     x    y   dx   dy  \\\n",
       "0  (25, 32)      m  1102  296  357  357   \n",
       "1  (25, 32)      f  1713  580  325  325   \n",
       "2  (15, 20)      f  1437  664  306  306   \n",
       "3  (25, 32)      f   978  229  803  803   \n",
       "4  (25, 32)      m  1745  910  242  242   \n",
       "\n",
       "                                            img_path  \n",
       "0  D:/AdienceBenchmarkGenderAndAgeClassification/...  \n",
       "1  D:/AdienceBenchmarkGenderAndAgeClassification/...  \n",
       "2  D:/AdienceBenchmarkGenderAndAgeClassification/...  \n",
       "3  D:/AdienceBenchmarkGenderAndAgeClassification/...  \n",
       "4  D:/AdienceBenchmarkGenderAndAgeClassification/...  "
      ]
     },
     "execution_count": 32,
     "metadata": {},
     "output_type": "execute_result"
    }
   ],
   "source": [
    "df.head()"
   ]
  },
  {
   "cell_type": "code",
   "execution_count": 33,
   "metadata": {},
   "outputs": [
    {
     "name": "stderr",
     "output_type": "stream",
     "text": [
      "C:\\Users\\hpw\\anaconda3\\envs\\py36\\lib\\site-packages\\pandas\\core\\indexing.py:671: SettingWithCopyWarning: \n",
      "A value is trying to be set on a copy of a slice from a DataFrame\n",
      "\n",
      "See the caveats in the documentation: https://pandas.pydata.org/pandas-docs/stable/user_guide/indexing.html#returning-a-view-versus-a-copy\n",
      "  self._setitem_with_indexer(indexer, value)\n"
     ]
    },
    {
     "data": {
      "text/plain": [
       "25-32    5296\n",
       "38-43    2776\n",
       "0-2      2509\n",
       "8-13     2292\n",
       "4-6      2140\n",
       "15-20    1792\n",
       "48-53     916\n",
       "60+       901\n",
       "Name: age, dtype: int64"
      ]
     },
     "execution_count": 33,
     "metadata": {},
     "output_type": "execute_result"
    }
   ],
   "source": [
    "age_mapping = [('(0, 2)', '0-2'), ('2', '0-2'), ('3', '0-2'), ('(4, 6)', '4-6'), ('(8, 12)', '8-13'), ('13', '8-13'), ('22', '15-20'), ('(8, 23)','15-20'), ('23', '25-32'), ('(15, 20)', '15-20'), ('(25, 32)', '25-32'), ('(27, 32)', '25-32'), ('32', '25-32'), ('34', '25-32'), ('29', '25-32'), ('(38, 42)', '38-43'), ('35', '38-43'), ('36', '38-43'), ('42', '48-53'), ('45', '38-43'), ('(38, 43)', '38-43'), ('(38, 42)', '38-43'), ('(38, 48)', '48-53'), ('46', '48-53'), ('(48, 53)', '48-53'), ('55', '48-53'), ('56', '48-53'), ('(60, 100)', '60+'), ('57', '60+'), ('58', '60+')]\n",
    "\n",
    "age_mapping_dict = {each[0]: each[1] for each in age_mapping}\n",
    "drop_labels = []\n",
    "for idx, each in enumerate(df.age):\n",
    "    if each == 'None':\n",
    "        drop_labels.append(idx)\n",
    "    else:\n",
    "        df.age.loc[idx] = age_mapping_dict[each]\n",
    "\n",
    "df = df.drop(labels=drop_labels, axis=0) #droped None values\n",
    "df.age.value_counts(dropna=False)"
   ]
  },
  {
   "cell_type": "code",
   "execution_count": 34,
   "metadata": {},
   "outputs": [
    {
     "name": "stdout",
     "output_type": "stream",
     "text": [
      "<class 'pandas.core.frame.DataFrame'>\n",
      "Int64Index: 17452 entries, 0 to 19345\n",
      "Data columns (total 7 columns):\n",
      " #   Column    Non-Null Count  Dtype \n",
      "---  ------    --------------  ----- \n",
      " 0   age       17452 non-null  object\n",
      " 1   gender    17452 non-null  object\n",
      " 2   x         17452 non-null  int64 \n",
      " 3   y         17452 non-null  int64 \n",
      " 4   dx        17452 non-null  int64 \n",
      " 5   dy        17452 non-null  int64 \n",
      " 6   img_path  17452 non-null  object\n",
      "dtypes: int64(4), object(3)\n",
      "memory usage: 1.1+ MB\n"
     ]
    }
   ],
   "source": [
    "df = df.dropna()\n",
    "unbiased_data = df[df.gender != 'u'].copy()\n",
    "unbiased_data.info()"
   ]
  },
  {
   "cell_type": "code",
   "execution_count": 35,
   "metadata": {},
   "outputs": [
    {
     "data": {
      "text/html": [
       "<div>\n",
       "<style scoped>\n",
       "    .dataframe tbody tr th:only-of-type {\n",
       "        vertical-align: middle;\n",
       "    }\n",
       "\n",
       "    .dataframe tbody tr th {\n",
       "        vertical-align: top;\n",
       "    }\n",
       "\n",
       "    .dataframe thead th {\n",
       "        text-align: right;\n",
       "    }\n",
       "</style>\n",
       "<table border=\"1\" class=\"dataframe\">\n",
       "  <thead>\n",
       "    <tr style=\"text-align: right;\">\n",
       "      <th></th>\n",
       "      <th>age</th>\n",
       "      <th>gender</th>\n",
       "      <th>x</th>\n",
       "      <th>y</th>\n",
       "      <th>dx</th>\n",
       "      <th>dy</th>\n",
       "      <th>img_path</th>\n",
       "    </tr>\n",
       "  </thead>\n",
       "  <tbody>\n",
       "    <tr>\n",
       "      <th>0</th>\n",
       "      <td>4</td>\n",
       "      <td>1</td>\n",
       "      <td>1102</td>\n",
       "      <td>296</td>\n",
       "      <td>357</td>\n",
       "      <td>357</td>\n",
       "      <td>D:/AdienceBenchmarkGenderAndAgeClassification/...</td>\n",
       "    </tr>\n",
       "    <tr>\n",
       "      <th>1</th>\n",
       "      <td>4</td>\n",
       "      <td>0</td>\n",
       "      <td>1713</td>\n",
       "      <td>580</td>\n",
       "      <td>325</td>\n",
       "      <td>325</td>\n",
       "      <td>D:/AdienceBenchmarkGenderAndAgeClassification/...</td>\n",
       "    </tr>\n",
       "    <tr>\n",
       "      <th>2</th>\n",
       "      <td>3</td>\n",
       "      <td>0</td>\n",
       "      <td>1437</td>\n",
       "      <td>664</td>\n",
       "      <td>306</td>\n",
       "      <td>306</td>\n",
       "      <td>D:/AdienceBenchmarkGenderAndAgeClassification/...</td>\n",
       "    </tr>\n",
       "    <tr>\n",
       "      <th>3</th>\n",
       "      <td>4</td>\n",
       "      <td>0</td>\n",
       "      <td>978</td>\n",
       "      <td>229</td>\n",
       "      <td>803</td>\n",
       "      <td>803</td>\n",
       "      <td>D:/AdienceBenchmarkGenderAndAgeClassification/...</td>\n",
       "    </tr>\n",
       "    <tr>\n",
       "      <th>4</th>\n",
       "      <td>4</td>\n",
       "      <td>1</td>\n",
       "      <td>1745</td>\n",
       "      <td>910</td>\n",
       "      <td>242</td>\n",
       "      <td>242</td>\n",
       "      <td>D:/AdienceBenchmarkGenderAndAgeClassification/...</td>\n",
       "    </tr>\n",
       "  </tbody>\n",
       "</table>\n",
       "</div>"
      ],
      "text/plain": [
       "   age  gender     x    y   dx   dy  \\\n",
       "0    4       1  1102  296  357  357   \n",
       "1    4       0  1713  580  325  325   \n",
       "2    3       0  1437  664  306  306   \n",
       "3    4       0   978  229  803  803   \n",
       "4    4       1  1745  910  242  242   \n",
       "\n",
       "                                            img_path  \n",
       "0  D:/AdienceBenchmarkGenderAndAgeClassification/...  \n",
       "1  D:/AdienceBenchmarkGenderAndAgeClassification/...  \n",
       "2  D:/AdienceBenchmarkGenderAndAgeClassification/...  \n",
       "3  D:/AdienceBenchmarkGenderAndAgeClassification/...  \n",
       "4  D:/AdienceBenchmarkGenderAndAgeClassification/...  "
      ]
     },
     "execution_count": 35,
     "metadata": {},
     "output_type": "execute_result"
    }
   ],
   "source": [
    "gender_to_label_map = {\n",
    "    'f' : 0,\n",
    "    'm' : 1\n",
    "}\n",
    "\n",
    "age_to_label_map = {\n",
    "    '0-2'  :0,\n",
    "    '4-6'  :1,\n",
    "    '8-13' :2,\n",
    "    '15-20':3,\n",
    "    '25-32':4,\n",
    "    '38-43':5,\n",
    "    '48-53':6,\n",
    "    '60+'  :7\n",
    "}\n",
    "\n",
    "# label_to_age_map = {value: key for key, value in age_to_label_map.items()}\n",
    "# label_to_gender_map = {value: key for key, value in gender_to_label_map.items()}\n",
    "\n",
    "unbiased_data['age'] = unbiased_data['age'].apply(lambda age: age_to_label_map[age])\n",
    "unbiased_data['gender'] = unbiased_data['gender'].apply(lambda g: gender_to_label_map[g])\n",
    "\n",
    "unbiased_data.head()"
   ]
  },
  {
   "cell_type": "code",
   "execution_count": null,
   "metadata": {},
   "outputs": [],
   "source": [
    "classes=['0-2','4-6','8-13','15-20','25-32','38-43','48-53','60+']"
   ]
  },
  {
   "cell_type": "code",
   "execution_count": 36,
   "metadata": {},
   "outputs": [
    {
     "name": "stdout",
     "output_type": "stream",
     "text": [
      "Train data shape (12216, 1)\n",
      "Test data shape (5236, 1)\n"
     ]
    }
   ],
   "source": [
    "X = unbiased_data[['img_path']]\n",
    "y = unbiased_data[['age']]\n",
    "from sklearn.model_selection import train_test_split\n",
    "X_train, X_test, y_train, y_test = train_test_split(X, y, test_size=0.3, random_state=0)\n",
    "\n",
    "print('Train data shape {}'.format(X_train.shape))\n",
    "print('Test data shape {}'.format(X_test.shape))"
   ]
  },
  {
   "cell_type": "code",
   "execution_count": 37,
   "metadata": {},
   "outputs": [
    {
     "name": "stdout",
     "output_type": "stream",
     "text": [
      "Train images shape (12216, 227, 227, 3)\n",
      "Test images shape (5236, 227, 227, 3)\n"
     ]
    }
   ],
   "source": [
    "train_images = []\n",
    "test_images = []\n",
    "\n",
    "for row in X_train.iterrows():\n",
    "    image = Image.open(row[1].img_path)\n",
    "    image = image.resize((227, 227))   # Resize the image\n",
    "    data = np.asarray(image)\n",
    "    train_images.append(data)\n",
    "\n",
    "for row in X_test.iterrows():\n",
    "    image = Image.open(row[1].img_path)\n",
    "    image = image.resize((227, 227))  # Resize the image\n",
    "    data = np.asarray(image)\n",
    "    test_images.append(data)\n",
    "\n",
    "train_images = np.asarray(train_images)\n",
    "test_images = np.asarray(test_images)\n",
    "\n",
    "print('Train images shape {}'.format(train_images.shape))\n",
    "print('Test images shape {}'.format(test_images.shape))"
   ]
  },
  {
   "cell_type": "code",
   "execution_count": 5,
   "metadata": {},
   "outputs": [],
   "source": [
    "model=Sequential()\n",
    "\n",
    "#1 conv layer\n",
    "model.add(Conv2D(96,(7,7),padding='same',input_shape=(227,227,3)))\n",
    "model.add(Activation('relu'))\n",
    "model.add(MaxPooling2D(pool_size=(3,3),strides=(2,2)))\n",
    "model.add(keras.layers.LayerNormalization())\n",
    "\n",
    "#2 conv layer\n",
    "model.add(Conv2D(256,(5,5),padding='same'))\n",
    "model.add(Activation('relu'))\n",
    "model.add(MaxPooling2D(pool_size=(3,3),strides=(2,2)))\n",
    "model.add(keras.layers.LayerNormalization())\n",
    "\n",
    "#3 conv layer\n",
    "model.add(Conv2D(384,(3,3),padding='same'))\n",
    "model.add(Activation('relu'))\n",
    "model.add(MaxPooling2D(pool_size=(3,3),strides=(2,2)))\n",
    "\n",
    "model.add(Flatten())\n",
    "\n",
    "model.add(Dense(512))\n",
    "model.add(Activation('relu'))\n",
    "model.add(Dropout(0.5))\n",
    "\n",
    "model.add(Dense(512))\n",
    "model.add(Activation('relu'))\n",
    "model.add(Dropout(0.5))\n",
    "\n",
    "\n",
    "model.add(Dense(8,activation='softmax'))\n",
    "\n",
    "#opt=Adam(lr=0.0001)\n",
    "#model.compile(optimizer=opt,loss='categorical_crossentropy',metrics=['accuracy'])\n",
    "#model.summary()\n",
    "\n"
   ]
  },
  {
   "cell_type": "code",
   "execution_count": 6,
   "metadata": {},
   "outputs": [
    {
     "name": "stdout",
     "output_type": "stream",
     "text": [
      "Model: \"sequential_2\"\n",
      "_________________________________________________________________\n",
      "Layer (type)                 Output Shape              Param #   \n",
      "=================================================================\n",
      "conv2d_4 (Conv2D)            (None, 227, 227, 96)      14208     \n",
      "_________________________________________________________________\n",
      "activation (Activation)      (None, 227, 227, 96)      0         \n",
      "_________________________________________________________________\n",
      "max_pooling2d_4 (MaxPooling2 (None, 113, 113, 96)      0         \n",
      "_________________________________________________________________\n",
      "layer_normalization_3 (Layer (None, 113, 113, 96)      192       \n",
      "_________________________________________________________________\n",
      "conv2d_5 (Conv2D)            (None, 113, 113, 256)     614656    \n",
      "_________________________________________________________________\n",
      "activation_1 (Activation)    (None, 113, 113, 256)     0         \n",
      "_________________________________________________________________\n",
      "max_pooling2d_5 (MaxPooling2 (None, 56, 56, 256)       0         \n",
      "_________________________________________________________________\n",
      "layer_normalization_4 (Layer (None, 56, 56, 256)       512       \n",
      "_________________________________________________________________\n",
      "conv2d_6 (Conv2D)            (None, 56, 56, 384)       885120    \n",
      "_________________________________________________________________\n",
      "activation_2 (Activation)    (None, 56, 56, 384)       0         \n",
      "_________________________________________________________________\n",
      "max_pooling2d_6 (MaxPooling2 (None, 27, 27, 384)       0         \n",
      "_________________________________________________________________\n",
      "flatten_1 (Flatten)          (None, 279936)            0         \n",
      "_________________________________________________________________\n",
      "dense_3 (Dense)              (None, 512)               143327744 \n",
      "_________________________________________________________________\n",
      "activation_3 (Activation)    (None, 512)               0         \n",
      "_________________________________________________________________\n",
      "dropout_2 (Dropout)          (None, 512)               0         \n",
      "_________________________________________________________________\n",
      "dense_4 (Dense)              (None, 512)               262656    \n",
      "_________________________________________________________________\n",
      "activation_4 (Activation)    (None, 512)               0         \n",
      "_________________________________________________________________\n",
      "dropout_3 (Dropout)          (None, 512)               0         \n",
      "_________________________________________________________________\n",
      "dense_5 (Dense)              (None, 8)                 4104      \n",
      "=================================================================\n",
      "Total params: 145,109,192\n",
      "Trainable params: 145,109,192\n",
      "Non-trainable params: 0\n",
      "_________________________________________________________________\n"
     ]
    }
   ],
   "source": [
    "model.summary()"
   ]
  },
  {
   "cell_type": "code",
   "execution_count": 3,
   "metadata": {},
   "outputs": [],
   "source": [
    "\n",
    "model = Sequential()\n",
    "model.add(Conv2D(input_shape=(227, 227, 3), filters=96, kernel_size=(7, 7), strides=4, padding='valid', activation='relu'))\n",
    "model.add(MaxPooling2D(pool_size=(2,2),strides=(2,2)))\n",
    "model.add(keras.layers.LayerNormalization())\n",
    "model.add(Conv2D(filters=256, kernel_size=(5, 5), strides=1, padding='same', activation='relu'))\n",
    "model.add(MaxPooling2D(pool_size=(2,2),strides=(2,2)))\n",
    "model.add(keras.layers.LayerNormalization())\n",
    "model.add(Conv2D(filters=256, kernel_size=(3, 3), strides=1, padding='same', activation='relu'))\n",
    "model.add(MaxPooling2D(pool_size=(2,2),strides=(2,2)))\n",
    "model.add(keras.layers.LayerNormalization())\n",
    "\n",
    "model.add(Flatten())\n",
    "model.add(Dense(units=512, activation='relu'))\n",
    "model.add(Dropout(rate=0.25))\n",
    "model.add(Dense(units=512, activation='relu'))\n",
    "model.add(Dropout(rate=0.25))\n",
    "model.add(Dense(units=2, activation='softmax'))"
   ]
  },
  {
   "cell_type": "code",
   "execution_count": 4,
   "metadata": {},
   "outputs": [
    {
     "name": "stdout",
     "output_type": "stream",
     "text": [
      "Model: \"sequential_1\"\n",
      "_________________________________________________________________\n",
      "Layer (type)                 Output Shape              Param #   \n",
      "=================================================================\n",
      "conv2d_1 (Conv2D)            (None, 56, 56, 96)        14208     \n",
      "_________________________________________________________________\n",
      "max_pooling2d_1 (MaxPooling2 (None, 28, 28, 96)        0         \n",
      "_________________________________________________________________\n",
      "layer_normalization (LayerNo (None, 28, 28, 96)        192       \n",
      "_________________________________________________________________\n",
      "conv2d_2 (Conv2D)            (None, 28, 28, 256)       614656    \n",
      "_________________________________________________________________\n",
      "max_pooling2d_2 (MaxPooling2 (None, 14, 14, 256)       0         \n",
      "_________________________________________________________________\n",
      "layer_normalization_1 (Layer (None, 14, 14, 256)       512       \n",
      "_________________________________________________________________\n",
      "conv2d_3 (Conv2D)            (None, 14, 14, 256)       590080    \n",
      "_________________________________________________________________\n",
      "max_pooling2d_3 (MaxPooling2 (None, 7, 7, 256)         0         \n",
      "_________________________________________________________________\n",
      "layer_normalization_2 (Layer (None, 7, 7, 256)         512       \n",
      "_________________________________________________________________\n",
      "flatten (Flatten)            (None, 12544)             0         \n",
      "_________________________________________________________________\n",
      "dense (Dense)                (None, 512)               6423040   \n",
      "_________________________________________________________________\n",
      "dropout (Dropout)            (None, 512)               0         \n",
      "_________________________________________________________________\n",
      "dense_1 (Dense)              (None, 512)               262656    \n",
      "_________________________________________________________________\n",
      "dropout_1 (Dropout)          (None, 512)               0         \n",
      "_________________________________________________________________\n",
      "dense_2 (Dense)              (None, 2)                 1026      \n",
      "=================================================================\n",
      "Total params: 7,906,882\n",
      "Trainable params: 7,906,882\n",
      "Non-trainable params: 0\n",
      "_________________________________________________________________\n"
     ]
    }
   ],
   "source": [
    "model.summary()"
   ]
  },
  {
   "cell_type": "code",
   "execution_count": 40,
   "metadata": {},
   "outputs": [
    {
     "name": "stdout",
     "output_type": "stream",
     "text": [
      "Train on 12216 samples, validate on 5236 samples\n",
      "Epoch 1/5\n",
      "12216/12216 [==============================] - 7706s 631ms/sample - loss: 1.9824 - acc: 0.2915 - val_loss: 1.9677 - val_acc: 0.3063\n",
      "Epoch 2/5\n",
      "12216/12216 [==============================] - 8346s 683ms/sample - loss: 1.9764 - acc: 0.2976 - val_loss: 1.9677 - val_acc: 0.3063\n",
      "Epoch 3/5\n",
      "12216/12216 [==============================] - 8324s 681ms/sample - loss: 1.9764 - acc: 0.2976 - val_loss: 1.9677 - val_acc: 0.3063\n",
      "Epoch 4/5\n",
      "12216/12216 [==============================] - 8048s 659ms/sample - loss: 1.9764 - acc: 0.2976 - val_loss: 1.9677 - val_acc: 0.3063\n",
      "Epoch 5/5\n",
      "12216/12216 [==============================] - 8766s 718ms/sample - loss: 1.9764 - acc: 0.2976 - val_loss: 1.9677 - val_acc: 0.3063\n"
     ]
    }
   ],
   "source": [
    "callback = tf.keras.callbacks.EarlyStopping(monitor='loss', patience=3) # Callback for earlystopping\n",
    "model.compile(optimizer='adam', loss=tf.keras.losses.SparseCategoricalCrossentropy(from_logits=True), metrics=['accuracy'])\n",
    "history = model.fit(train_images, y_train, batch_size=32, epochs=5, validation_data=(test_images, y_test), callbacks=[callback])"
   ]
  },
  {
   "cell_type": "code",
   "execution_count": 41,
   "metadata": {},
   "outputs": [],
   "source": [
    "model.save('age_model.h5')"
   ]
  },
  {
   "cell_type": "code",
   "execution_count": 42,
   "metadata": {},
   "outputs": [],
   "source": [
    "model_json=model.to_json()\n",
    "with open(\"agemodel.json\",\"w\") as json_file:\n",
    "    json_file.write(model_json)"
   ]
  },
  {
   "cell_type": "code",
   "execution_count": 43,
   "metadata": {},
   "outputs": [],
   "source": [
    "model.save('age_detection.model')"
   ]
  },
  {
   "cell_type": "code",
   "execution_count": null,
   "metadata": {},
   "outputs": [],
   "source": []
  }
 ],
 "metadata": {
  "kernelspec": {
   "display_name": "Python 3",
   "language": "python",
   "name": "python3"
  },
  "language_info": {
   "codemirror_mode": {
    "name": "ipython",
    "version": 3
   },
   "file_extension": ".py",
   "mimetype": "text/x-python",
   "name": "python",
   "nbconvert_exporter": "python",
   "pygments_lexer": "ipython3",
   "version": "3.6.10"
  }
 },
 "nbformat": 4,
 "nbformat_minor": 4
}
